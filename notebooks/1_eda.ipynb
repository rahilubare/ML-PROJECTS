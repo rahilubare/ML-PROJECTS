{
 "cells": [
  {
   "cell_type": "code",
   "execution_count": null,
   "id": "6e62318e",
   "metadata": {
    "vscode": {
     "languageId": "plaintext"
    }
   },
   "outputs": [],
   "source": [
    "import pandas as pd\n",
    "import matplotlib.pyplot as plt\n",
    "import seaborn as sns\n",
    "\n",
    "# Load data\n",
    "df = pd.read_csv('../data/raw/WA_Fn-UseC_-Telco-Customer-Churn.csv')\n",
    "\n",
    "# Display basic info\n",
    "print(\"Data Shape:\", df.shape)\n",
    "print(\"\\nData Types:\\n\", df.dtypes)\n",
    "print(\"\\nMissing Values:\\n\", df.isnull().sum())\n",
    "print(\"\\nChurn Distribution:\\n\", df['Churn'].value_counts())\n",
    "\n",
    "# Visualize Churn\n",
    "plt.figure(figsize=(6, 4))\n",
    "sns.countplot(x='Churn', data=df)\n",
    "plt.title('Churn Distribution')\n",
    "plt.show()\n",
    "\n",
    "# Visualize numerical features\n",
    "num_cols = ['tenure', 'MonthlyCharges', 'TotalCharges']\n",
    "df[num_cols].hist(figsize=(12, 6))\n",
    "plt.tight_layout()\n",
    "plt.show()\n",
    "\n",
    "# Visualize categorical features\n",
    "cat_cols = ['gender', 'SeniorCitizen', 'Partner', 'Dependents', 'Contract', 'PaymentMethod']\n",
    "plt.figure(figsize=(15, 10))\n",
    "for i, col in enumerate(cat_cols, 1):\n",
    "    plt.subplot(2, 3, i)\n",
    "    sns.countplot(x=col, hue='Churn', data=df)\n",
    "    plt.xticks(rotation=45)\n",
    "plt.tight_layout()\n",
    "plt.show()\n"
   ]
  }
 ],
 "metadata": {
  "language_info": {
   "name": "python"
  }
 },
 "nbformat": 4,
 "nbformat_minor": 5
}
